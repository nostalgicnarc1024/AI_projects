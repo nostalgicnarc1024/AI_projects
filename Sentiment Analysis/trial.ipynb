{
 "cells": [
  {
   "cell_type": "code",
   "execution_count": 1,
   "metadata": {},
   "outputs": [
    {
     "name": "stderr",
     "output_type": "stream",
     "text": [
      "C:\\Users\\gssabijp\\AppData\\Local\\Temp\\ipykernel_30452\\4008285106.py:7: LangChainDeprecationWarning: The class `ChatOpenAI` was deprecated in LangChain 0.0.10 and will be removed in 0.3.0. An updated version of the class exists in the langchain-openai package and should be used instead. To use it run `pip install -U langchain-openai` and import as `from langchain_openai import ChatOpenAI`.\n",
      "  llm = ChatOpenAI(temperature=0, model_name=\"gpt-4o-mini\", openai_api_key=api_key)\n"
     ]
    }
   ],
   "source": [
    "import os\n",
    "from dotenv import load_dotenv, dotenv_values \n",
    "from langchain.chat_models import ChatOpenAI\n",
    "\n",
    "load_dotenv()\n",
    "api_key = os.getenv(\"MY_KEY\")\n",
    "llm = ChatOpenAI(temperature=0, model_name=\"gpt-4o-mini\", openai_api_key=api_key)"
   ]
  },
  {
   "cell_type": "code",
   "execution_count": 2,
   "metadata": {},
   "outputs": [],
   "source": [
    "template_string = \"\"\"Create a json file consisting of 20 restaurants in new york,\n",
    "let the keys be name of the restaurant, price for two people and a 3-sentence review\n",
    "explaining how people felt about the food, make sure the reviews are random if one review says food was good let one say that the food was bad.\n",
    "Give me the output as comma separated values with the header restaurant, price for two(in $), review which can be easily converted to a dataframe,\n",
    "give only the output without the csv text and triple quotes\n",
    "\"\"\""
   ]
  },
  {
   "cell_type": "code",
   "execution_count": 3,
   "metadata": {},
   "outputs": [
    {
     "name": "stderr",
     "output_type": "stream",
     "text": [
      "C:\\Users\\gssabijp\\AppData\\Local\\Temp\\ipykernel_30452\\3698132983.py:5: LangChainDeprecationWarning: The method `BaseChatModel.__call__` was deprecated in langchain-core 0.1.7 and will be removed in 1.0. Use invoke instead.\n",
      "  response = llm(customer_messages)\n"
     ]
    },
    {
     "data": {
      "text/plain": [
       "'restaurant,price for two(in $),review\\n\"Joe\\'s Pizza\",30,\"The pizza at Joe\\'s is a classic New York experience. Many patrons rave about the perfect crust and fresh toppings. However, some found it a bit too greasy for their taste.\"\\n\"Le Bernardin\",300,\"Le Bernardin offers an exquisite dining experience with its seafood dishes. Diners often leave in awe of the flavors and presentation. A few, however, felt the prices were not justified for the portion sizes.\"\\n\"Shake Shack\",25,\"Shake Shack is loved for its juicy burgers and crinkle-cut fries. Customers appreciate the casual vibe and quick service. Some, though, think the hype doesn\\'t match the taste.\"\\n\"Peter Luger Steak House\",150,\"Peter Luger\\'s is renowned for its steaks, and many say it\\'s the best they\\'ve ever had. The atmosphere is classic and inviting. Yet, a few diners were disappointed by the service they received.\"\\n\"Momofuku Noodle Bar\",40,\"Momofuku\\'s ramen is a favorite among locals, with rich broth and perfectly cooked noodles. Many enjoy the vibrant atmosphere. However, some found the flavors too bold for their liking.\"\\n\"Eleven Madison Park\",350,\"Eleven Madison Park is a culinary masterpiece, with each dish telling a story. Guests often leave feeling like they\\'ve experienced art on a plate. A handful, however, felt it was more style than substance.\"\\n\"Los Tacos No. 1\",20,\"Los Tacos No. 1 serves some of the best tacos in the city, with fresh ingredients and authentic flavors. Diners love the casual setting and quick service. A few, however, wished for more variety on the menu.\"\\n\"Carbone\",200,\"Carbone is famous for its classic Italian dishes, and many rave about the spicy rigatoni. The ambiance is lively and nostalgic. Some diners, however, felt the prices were too steep for what they received.\"\\n\"Russ & Daughters Cafe\",50,\"Russ & Daughters Cafe is a beloved spot for bagels and lox, with many praising the quality of the ingredients. The atmosphere is warm and inviting. A few customers found the service lacking during busy hours.\"\\n\"Blue Hill\",150,\"Blue Hill focuses on farm-to-table dining, and many appreciate the freshness of the ingredients. Diners often leave feeling satisfied and healthy. However, some felt the dishes were too experimental for their taste.\"\\n\"Smorgasburg\",40,\"Smorgasburg is a food lover\\'s paradise, with a variety of vendors offering unique dishes. Many enjoy the outdoor setting and the chance to try different cuisines. A few visitors found the crowds overwhelming and the lines too long.\"\\n\"Shake Shack\",25,\"Shake Shack is loved for its juicy burgers and crinkle-cut fries. Customers appreciate the casual vibe and quick service. Some, though, think the hype doesn\\'t match the taste.\"\\n\"Keens Steakhouse\",200,\"Keens Steakhouse is a historic gem known for its mutton chop and extensive whiskey selection. Diners often rave about the rich flavors and cozy atmosphere. A few felt the service was a bit slow during peak hours.\"\\n\"Bar Pitti\",70,\"Bar Pitti is a charming Italian restaurant with delicious pasta dishes that many rave about. The outdoor seating is a favorite among patrons. However, some found the wait times to be frustrating.\"\\n\"Tacombi\",30,\"Tacombi offers a vibrant atmosphere with tasty tacos that many enjoy. The fresh ingredients and friendly service are often highlighted in reviews. A few diners, however, felt the flavors were too mild.\"\\n\"Momofuku Ko\",200,\"Momofuku Ko provides a unique tasting menu that leaves diners impressed with creativity. Many appreciate the intimate setting and attentive service. Some, however, found certain dishes to be hit or miss.\"\\n\"ABC Kitchen\",150,\"ABC Kitchen is celebrated for its seasonal dishes and commitment to sustainability. Diners often leave feeling satisfied and inspired. A few, however, felt the flavors were too subtle for their liking.\"\\n\"Frankies 457 Spuntino\",80,\"Frankies 457 Spuntino is known for its homemade pasta and rustic Italian dishes. Many patrons enjoy the cozy atmosphere and friendly service. A few, however, found the portions to be on the smaller side.\"\\n\"St. Anselm\",100,\"St. Anselm is praised for its grilled meats and unique sides, with many calling it a hidden gem. Diners appreciate the laid-back vibe and quality of food. Some, however, felt the menu was limited.\"'"
      ]
     },
     "execution_count": 3,
     "metadata": {},
     "output_type": "execute_result"
    }
   ],
   "source": [
    "from langchain.prompts import ChatPromptTemplate\n",
    "\n",
    "prompt_template = ChatPromptTemplate.from_template(template_string)\n",
    "customer_messages = prompt_template.format_messages()\n",
    "response = llm(customer_messages)\n",
    "a = response.content\n",
    "a"
   ]
  },
  {
   "cell_type": "code",
   "execution_count": 4,
   "metadata": {},
   "outputs": [
    {
     "name": "stdout",
     "output_type": "stream",
     "text": [
      "                 restaurant  price for two(in $)  \\\n",
      "0               Joe's Pizza                   30   \n",
      "1              Le Bernardin                  300   \n",
      "2               Shake Shack                   25   \n",
      "3   Peter Luger Steak House                  150   \n",
      "4       Momofuku Noodle Bar                   40   \n",
      "5       Eleven Madison Park                  350   \n",
      "6           Los Tacos No. 1                   20   \n",
      "7                   Carbone                  200   \n",
      "8     Russ & Daughters Cafe                   50   \n",
      "9                 Blue Hill                  150   \n",
      "10              Smorgasburg                   40   \n",
      "11              Shake Shack                   25   \n",
      "12         Keens Steakhouse                  200   \n",
      "13                Bar Pitti                   70   \n",
      "14                  Tacombi                   30   \n",
      "15              Momofuku Ko                  200   \n",
      "16              ABC Kitchen                  150   \n",
      "17    Frankies 457 Spuntino                   80   \n",
      "18               St. Anselm                  100   \n",
      "\n",
      "                                               review  \n",
      "0   The pizza at Joe's is a classic New York exper...  \n",
      "1   Le Bernardin offers an exquisite dining experi...  \n",
      "2   Shake Shack is loved for its juicy burgers and...  \n",
      "3   Peter Luger's is renowned for its steaks, and ...  \n",
      "4   Momofuku's ramen is a favorite among locals, w...  \n",
      "5   Eleven Madison Park is a culinary masterpiece,...  \n",
      "6   Los Tacos No. 1 serves some of the best tacos ...  \n",
      "7   Carbone is famous for its classic Italian dish...  \n",
      "8   Russ & Daughters Cafe is a beloved spot for ba...  \n",
      "9   Blue Hill focuses on farm-to-table dining, and...  \n",
      "10  Smorgasburg is a food lover's paradise, with a...  \n",
      "11  Shake Shack is loved for its juicy burgers and...  \n",
      "12  Keens Steakhouse is a historic gem known for i...  \n",
      "13  Bar Pitti is a charming Italian restaurant wit...  \n",
      "14  Tacombi offers a vibrant atmosphere with tasty...  \n",
      "15  Momofuku Ko provides a unique tasting menu tha...  \n",
      "16  ABC Kitchen is celebrated for its seasonal dis...  \n",
      "17  Frankies 457 Spuntino is known for its homemad...  \n",
      "18  St. Anselm is praised for its grilled meats an...  \n"
     ]
    }
   ],
   "source": [
    "import pandas as pd\n",
    "from io import StringIO\n",
    "# Step 2: Convert to DataFrame\n",
    "csv_data = StringIO(a)\n",
    "\n",
    "# Step 2: Read the CSV data into a DataFrame\n",
    "df = pd.read_csv(csv_data)\n",
    "\n",
    "# Step 3: Display the DataFrame\n",
    "print(df)"
   ]
  },
  {
   "cell_type": "code",
   "execution_count": 5,
   "metadata": {},
   "outputs": [
    {
     "data": {
      "text/plain": [
       "['positive',\n",
       " 'positive',\n",
       " 'mixed',\n",
       " 'positive',\n",
       " 'positive',\n",
       " 'positive',\n",
       " 'positive',\n",
       " 'negative',\n",
       " 'positive',\n",
       " 'positive',\n",
       " 'positive',\n",
       " 'mixed',\n",
       " 'positive',\n",
       " 'positive',\n",
       " 'positive',\n",
       " 'positive',\n",
       " 'positive',\n",
       " 'positive',\n",
       " 'positive']"
      ]
     },
     "execution_count": 5,
     "metadata": {},
     "output_type": "execute_result"
    }
   ],
   "source": [
    "all_sentiments = []\n",
    "for review in df[\"review\"]:\n",
    "    prompt = f'''\n",
    "        Classify the following review \n",
    "        as having either a positive or\n",
    "        negative sentiment. State your answer\n",
    "        as a single word, either \"positive\" or\n",
    "        \"negative\":\n",
    "\n",
    "        {review}\n",
    "        '''\n",
    "    prompt_template = ChatPromptTemplate.from_template(prompt)\n",
    "    customer_messages = prompt_template.format_messages()\n",
    "    response = llm(customer_messages)\n",
    "    all_sentiments.append(response.content)\n",
    "    #all_sentiments.append(all_sentiments)\n",
    "all_sentiments"
   ]
  },
  {
   "cell_type": "code",
   "execution_count": 6,
   "metadata": {},
   "outputs": [
    {
     "data": {
      "text/html": [
       "<div>\n",
       "<style scoped>\n",
       "    .dataframe tbody tr th:only-of-type {\n",
       "        vertical-align: middle;\n",
       "    }\n",
       "\n",
       "    .dataframe tbody tr th {\n",
       "        vertical-align: top;\n",
       "    }\n",
       "\n",
       "    .dataframe thead th {\n",
       "        text-align: right;\n",
       "    }\n",
       "</style>\n",
       "<table border=\"1\" class=\"dataframe\">\n",
       "  <thead>\n",
       "    <tr style=\"text-align: right;\">\n",
       "      <th></th>\n",
       "      <th>review</th>\n",
       "      <th>Count</th>\n",
       "    </tr>\n",
       "  </thead>\n",
       "  <tbody>\n",
       "    <tr>\n",
       "      <th>0</th>\n",
       "      <td>positive</td>\n",
       "      <td>16</td>\n",
       "    </tr>\n",
       "    <tr>\n",
       "      <th>1</th>\n",
       "      <td>mixed</td>\n",
       "      <td>2</td>\n",
       "    </tr>\n",
       "    <tr>\n",
       "      <th>2</th>\n",
       "      <td>negative</td>\n",
       "      <td>1</td>\n",
       "    </tr>\n",
       "  </tbody>\n",
       "</table>\n",
       "</div>"
      ],
      "text/plain": [
       "     review  Count\n",
       "0  positive     16\n",
       "1     mixed      2\n",
       "2  negative      1"
      ]
     },
     "execution_count": 6,
     "metadata": {},
     "output_type": "execute_result"
    }
   ],
   "source": [
    "df = pd.DataFrame(all_sentiments, columns=['review'])\n",
    "\n",
    "# Count occurrences\n",
    "count_df = df['review'].value_counts().reset_index()\n",
    "count_df.columns = ['review', 'Count']\n",
    "count_df"
   ]
  }
 ],
 "metadata": {
  "kernelspec": {
   "display_name": "Python 3",
   "language": "python",
   "name": "python3"
  },
  "language_info": {
   "codemirror_mode": {
    "name": "ipython",
    "version": 3
   },
   "file_extension": ".py",
   "mimetype": "text/x-python",
   "name": "python",
   "nbconvert_exporter": "python",
   "pygments_lexer": "ipython3",
   "version": "3.11.6"
  }
 },
 "nbformat": 4,
 "nbformat_minor": 2
}
