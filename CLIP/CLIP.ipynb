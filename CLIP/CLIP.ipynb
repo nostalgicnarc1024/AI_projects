{
 "cells": [
  {
   "cell_type": "code",
   "execution_count": 1,
   "metadata": {},
   "outputs": [
    {
     "name": "stderr",
     "output_type": "stream",
     "text": [
      "C:\\Users\\gssabijp\\AppData\\Roaming\\Python\\Python311\\site-packages\\torch\\_utils.py:776: UserWarning: TypedStorage is deprecated. It will be removed in the future and UntypedStorage will be the only storage class. This should only matter to you if you are using storages directly.  To access UntypedStorage directly, use tensor.untyped_storage() instead of tensor.storage()\n",
      "  return self.fget.__get__(instance, owner)()\n"
     ]
    },
    {
     "name": "stdout",
     "output_type": "stream",
     "text": [
      "WARNING:tensorflow:From c:\\Users\\gssabijp\\AppData\\Local\\Programs\\Python\\Python311\\Lib\\site-packages\\keras\\src\\losses.py:2976: The name tf.losses.sparse_softmax_cross_entropy is deprecated. Please use tf.compat.v1.losses.sparse_softmax_cross_entropy instead.\n",
      "\n",
      "(3, 512)\n",
      "Shape of search_vector: (1, 512)\n",
      "[[14.925858 51.629223 88.356514]] [[0 2 1]]\n",
      "    image_path   distance\n",
      "0  0029_RV.png  14.925858\n"
     ]
    },
    {
     "name": "stderr",
     "output_type": "stream",
     "text": [
      "C:\\Users\\gssabijp\\AppData\\Local\\Temp\\ipykernel_22800\\2113816697.py:56: SettingWithCopyWarning: \n",
      "A value is trying to be set on a copy of a slice from a DataFrame.\n",
      "Try using .loc[row_indexer,col_indexer] = value instead\n",
      "\n",
      "See the caveats in the documentation: https://pandas.pydata.org/pandas-docs/stable/user_guide/indexing.html#returning-a-view-versus-a-copy\n",
      "  top_results['distance'] = D[0]\n"
     ]
    }
   ],
   "source": [
    "#clip and faiss image similarity search\n",
    "import os\n",
    "import pandas as pd\n",
    "import numpy as np\n",
    "from PIL import Image\n",
    "from torchvision import models, transforms\n",
    "import faiss\n",
    "import torch\n",
    "from sentence_transformers import SentenceTransformer\n",
    "\n",
    "device = torch.device(\"cpu\")\n",
    "\n",
    "data = [\n",
    "        ['0029_RV.png'],\n",
    "        ['0080_MVL.png'],\n",
    "        ['0105_MVL.png']\n",
    "       ]\n",
    "\n",
    "# code if images are taken from a folder\n",
    "# source_path = r'<source_path>'\n",
    "# data = [f for f in os.listdir(source_path) if f.endswith((\".jpg\", \".jpeg\", \".png\"))]\n",
    "# for i in range(len(data)):\n",
    "#     # Construct the full path to the image file\n",
    "#     data[i] = os.path.join(source_path, data[i])\n",
    "\n",
    "df = pd.DataFrame(data, columns=['image_path'])\n",
    "df.head()\n",
    "model = SentenceTransformer('clip-ViT-B-32')\n",
    "\n",
    "def get_image_embedding(input_image):\n",
    "    with torch.no_grad():\n",
    "        embedding = model.encode(Image.open(input_image))\n",
    "        embedding.shape\n",
    "    return embedding\n",
    "\n",
    "embeddings = np.vstack([get_image_embedding(path) for path in df['image_path']])\n",
    "print(embeddings.shape)\n",
    "vector_dimension = embeddings.shape[1]\n",
    "index = faiss.IndexFlatL2(vector_dimension)\n",
    "index.add(embeddings)\n",
    "\n",
    "search_image_path = '0154_RV.png'\n",
    "search_vector = get_image_embedding(search_image_path)\n",
    "\n",
    "search_vector = np.array([search_vector.squeeze()])\n",
    "\n",
    "print(\"Shape of search_vector:\", search_vector.shape)\n",
    "\n",
    "k = index.ntotal\n",
    "D, I = index.search(search_vector, k=k)  # Perform the search\n",
    "\n",
    "print(D, I)\n",
    "\n",
    "top_indices = I[0]\n",
    "top_results = df.iloc[top_indices]\n",
    "\n",
    "top_results['distance'] = D[0]\n",
    "\n",
    "print(top_results.head(1))"
   ]
  }
 ],
 "metadata": {
  "kernelspec": {
   "display_name": "Python 3.10.6 64-bit",
   "language": "python",
   "name": "python3"
  },
  "language_info": {
   "codemirror_mode": {
    "name": "ipython",
    "version": 3
   },
   "file_extension": ".py",
   "mimetype": "text/x-python",
   "name": "python",
   "nbconvert_exporter": "python",
   "pygments_lexer": "ipython3",
   "version": "3.11.6"
  },
  "orig_nbformat": 4,
  "vscode": {
   "interpreter": {
    "hash": "26de051ba29f2982a8de78e945f0abaf191376122a1563185a90213a26c5da77"
   }
  }
 },
 "nbformat": 4,
 "nbformat_minor": 2
}
